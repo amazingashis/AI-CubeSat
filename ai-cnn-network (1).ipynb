{
 "cells": [
  {
   "cell_type": "code",
   "execution_count": null,
   "metadata": {
    "execution": {
     "iopub.execute_input": "2021-08-12T03:23:54.459001Z",
     "iopub.status.busy": "2021-08-12T03:23:54.458512Z",
     "iopub.status.idle": "2021-08-12T03:26:51.656357Z",
     "shell.execute_reply": "2021-08-12T03:26:51.654882Z",
     "shell.execute_reply.started": "2021-08-12T03:23:54.458906Z"
    },
    "id": "0yK5eefPLusJ"
   },
   "outputs": [],
   "source": [
    "# This Python 3 environment comes with many helpful analytics libraries installed\n",
    "# It is defined by the kaggle/python Docker image: https://github.com/kaggle/docker-python\n",
    "# For example, here's several helpful packages to load\n",
    "\n",
    "import numpy as np # linear algebra\n",
    "import pandas as pd # data processing, CSV file I/O (e.g. pd.read_csv)\n",
    "\n",
    "# Input data files are available in the read-only \"../input/\" directory\n",
    "# For example, running this (by clicking run or pressing Shift+Enter) will list all files under the input directory\n",
    "\n",
    "import os\n",
    "for dirname, _, filenames in os.walk('/kaggle/input'):\n",
    "    for filename in filenames:\n",
    "        print(os.path.join(dirname, filename))\n",
    "\n",
    "# You can write up to 20GB to the current directory (/kaggle/working/) that gets preserved as output when you create a version using \"Save & Run All\" \n",
    "# You can also write temporary files to /kaggle/temp/, but they won't be saved outside of the current session"
   ]
  },
  {
   "cell_type": "code",
   "execution_count": 1,
   "metadata": {
    "execution": {
     "iopub.execute_input": "2021-08-14T16:06:49.846648Z",
     "iopub.status.busy": "2021-08-14T16:06:49.846263Z",
     "iopub.status.idle": "2021-08-14T16:06:56.489672Z",
     "shell.execute_reply": "2021-08-14T16:06:56.488664Z",
     "shell.execute_reply.started": "2021-08-14T16:06:49.846572Z"
    },
    "id": "j09ZT6iwGE5n",
    "outputId": "443f20c0-1c49-40a5-b23c-e7c322c5433b"
   },
   "outputs": [
    {
     "name": "stderr",
     "output_type": "stream",
     "text": [
      "/opt/conda/lib/python3.7/site-packages/ipykernel_launcher.py:20: FutureWarning: pandas.util.testing is deprecated. Use the functions in the public API at pandas.testing instead.\n"
     ]
    }
   ],
   "source": [
    "import matplotlib.pyplot as plt\n",
    "import tensorflow as tf \n",
    "from tensorflow import keras \n",
    "from tensorflow.keras.models import Sequential\n",
    "from tensorflow.keras.layers import Dense, Activation, Conv2D, MaxPooling2D, Flatten, Dropout, BatchNormalization\n",
    "from tensorflow.keras.optimizers import Adam\n",
    "from tensorflow.keras.callbacks import EarlyStopping\n",
    "from tensorflow.keras.preprocessing.image import ImageDataGenerator\n",
    "from sklearn.metrics import precision_recall_curve, roc_curve, accuracy_score, confusion_matrix, precision_score, recall_score\n",
    "from sklearn.decomposition import PCA\n",
    "from sklearn.model_selection import train_test_split\n",
    "import matplotlib.pyplot as plt \n",
    "import seaborn as sns \n",
    "plt.style.use('fivethirtyeight')\n",
    "import pickle \n",
    "import os \n",
    "import numpy as np\n",
    "import cv2 \n",
    "%matplotlib inline\n",
    "import pandas.util.testing as tm"
   ]
  },
  {
   "cell_type": "code",
   "execution_count": null,
   "metadata": {
    "execution": {
     "iopub.execute_input": "2021-08-12T03:27:00.936004Z",
     "iopub.status.busy": "2021-08-12T03:27:00.935696Z",
     "iopub.status.idle": "2021-08-12T03:27:00.944407Z",
     "shell.execute_reply": "2021-08-12T03:27:00.942775Z",
     "shell.execute_reply.started": "2021-08-12T03:27:00.935975Z"
    },
    "id": "kMZMdLCeGJ20"
   },
   "outputs": [],
   "source": [
    "labels = ['bad', 'good']\n",
    "img_size = 100\n",
    "def get_training_data(data_dir):\n",
    "    data = [] \n",
    "    for label in labels: \n",
    "        path = os.path.join(data_dir, label)\n",
    "        class_num = labels.index(label)\n",
    "        for img in os.listdir(path):\n",
    "            try:\n",
    "                img_arr = cv2.imread(os.path.join(path, img),cv2.IMREAD_GRAYSCALE)\n",
    "                resized_arr = cv2.resize(img_arr, (img_size, img_size))\n",
    "                data.append([resized_arr, class_num])\n",
    "            except Exception as e:\n",
    "                print(e)\n",
    "    return np.array(data)"
   ]
  },
  {
   "cell_type": "code",
   "execution_count": null,
   "metadata": {
    "execution": {
     "iopub.execute_input": "2021-08-12T03:27:00.946231Z",
     "iopub.status.busy": "2021-08-12T03:27:00.945853Z",
     "iopub.status.idle": "2021-08-12T03:30:37.326662Z",
     "shell.execute_reply": "2021-08-12T03:30:37.32556Z",
     "shell.execute_reply.started": "2021-08-12T03:27:00.946194Z"
    },
    "id": "CKpMc-KLGRtK",
    "outputId": "b88eac4c-e94f-47c6-d863-7a1dc022a2af"
   },
   "outputs": [],
   "source": [
    "train = get_training_data('../input/cubesat/training_dataset_v3')\n",
    "test = get_training_data('../input/cubesat/test_dataset_v5')"
   ]
  },
  {
   "cell_type": "code",
   "execution_count": null,
   "metadata": {
    "execution": {
     "iopub.execute_input": "2021-08-12T03:30:37.329716Z",
     "iopub.status.busy": "2021-08-12T03:30:37.329159Z",
     "iopub.status.idle": "2021-08-12T03:30:37.442833Z",
     "shell.execute_reply": "2021-08-12T03:30:37.441587Z",
     "shell.execute_reply.started": "2021-08-12T03:30:37.32967Z"
    },
    "id": "f9dMj5DhGcIX",
    "outputId": "840de3fc-abb7-4d14-f9dd-3251a449345f"
   },
   "outputs": [],
   "source": [
    "bad = 0 \n",
    "good = 0 \n",
    "\n",
    "for i, j in train:\n",
    "    if j == 0:\n",
    "        bad+=1\n",
    "    else:\n",
    "        good+=1\n",
    "        \n",
    "print('Bad:', bad)\n",
    "print('good:', good)\n",
    "print('Bad - Good:', bad-good)"
   ]
  },
  {
   "cell_type": "code",
   "execution_count": null,
   "metadata": {
    "execution": {
     "iopub.execute_input": "2021-08-12T03:30:37.445507Z",
     "iopub.status.busy": "2021-08-12T03:30:37.445093Z",
     "iopub.status.idle": "2021-08-12T03:30:38.330951Z",
     "shell.execute_reply": "2021-08-12T03:30:38.329994Z",
     "shell.execute_reply.started": "2021-08-12T03:30:37.445472Z"
    },
    "id": "iRpIsSVsGc-Y"
   },
   "outputs": [],
   "source": [
    "X = []\n",
    "y = []\n",
    "\n",
    "for feature, label in train:\n",
    "    X.append(feature)\n",
    "    y.append(label)\n",
    "\n",
    "for feature, label in test:\n",
    "    X.append(feature)\n",
    "    y.append(label)\n",
    "    \n",
    "\n",
    "\n",
    "# resize data for deep learning \n",
    "X = np.array(X).reshape(-1, img_size, img_size, 1)\n",
    "y = np.array(y)\n",
    "\n",
    "X_train, X_test, y_train, y_test = train_test_split(X, y, test_size=0.2, random_state=32)"
   ]
  },
  {
   "cell_type": "code",
   "execution_count": null,
   "metadata": {
    "execution": {
     "iopub.execute_input": "2021-08-12T03:30:38.332838Z",
     "iopub.status.busy": "2021-08-12T03:30:38.332354Z",
     "iopub.status.idle": "2021-08-12T03:30:41.019842Z",
     "shell.execute_reply": "2021-08-12T03:30:41.018878Z",
     "shell.execute_reply.started": "2021-08-12T03:30:38.332804Z"
    },
    "id": "ZXblEAR9GowG"
   },
   "outputs": [],
   "source": [
    "X_train = X_train / 255\n",
    "X_test = X_test / 255"
   ]
  },
  {
   "cell_type": "code",
   "execution_count": null,
   "metadata": {
    "execution": {
     "iopub.execute_input": "2021-08-12T03:30:41.021735Z",
     "iopub.status.busy": "2021-08-12T03:30:41.021182Z",
     "iopub.status.idle": "2021-08-12T03:30:41.028726Z",
     "shell.execute_reply": "2021-08-12T03:30:41.027236Z",
     "shell.execute_reply.started": "2021-08-12T03:30:41.021684Z"
    }
   },
   "outputs": [],
   "source": [
    "print(X_train.shape)"
   ]
  },
  {
   "cell_type": "code",
   "execution_count": null,
   "metadata": {
    "execution": {
     "iopub.execute_input": "2021-08-12T03:30:41.031013Z",
     "iopub.status.busy": "2021-08-12T03:30:41.030635Z",
     "iopub.status.idle": "2021-08-12T03:30:41.048651Z",
     "shell.execute_reply": "2021-08-12T03:30:41.047661Z",
     "shell.execute_reply.started": "2021-08-12T03:30:41.03098Z"
    },
    "id": "X7_mja79GpvA"
   },
   "outputs": [],
   "source": [
    "'''model = keras.Sequential([\n",
    "  keras.layers.Conv2D(input_shape=(100,100,3), filters=8, kernel_size=3, \n",
    "                      strides=2, activation='relu', name='Conv1'),\n",
    "  keras.layers.Flatten(),\n",
    "  keras.layers.Dense(2, activation=tf.nn.softmax, name='Softmax')\n",
    "])\n",
    "model.summary()\n",
    "\n",
    "testing = False\n",
    "epochs = 15\n",
    "\n",
    "model.compile(optimizer='adam', \n",
    "              loss='sparse_categorical_crossentropy',\n",
    "              metrics=['accuracy'])\n",
    "model.fit(X_train, y_train, epochs=epochs)\n",
    "\n",
    "test_loss, test_acc = model.evaluate(X_test, y_test)\n",
    "print('\\nTest accuracy: {}'.format(test_acc))\n",
    "'''"
   ]
  },
  {
   "cell_type": "code",
   "execution_count": 2,
   "metadata": {
    "execution": {
     "iopub.execute_input": "2021-08-14T16:06:56.491725Z",
     "iopub.status.busy": "2021-08-14T16:06:56.491283Z",
     "iopub.status.idle": "2021-08-14T16:06:56.552684Z",
     "shell.execute_reply": "2021-08-14T16:06:56.551727Z",
     "shell.execute_reply.started": "2021-08-14T16:06:56.491685Z"
    }
   },
   "outputs": [],
   "source": [
    "from keras.utils.np_utils import to_categorical # convert to one-hot-encoding\n",
    "from keras.models import Sequential\n",
    "from keras.layers import Dense, Dropout, Flatten, Conv2D, MaxPool2D, BatchNormalization\n",
    "from keras.optimizers import Adam\n",
    "from keras.preprocessing.image import ImageDataGenerator\n",
    "from keras.callbacks import LearningRateScheduler"
   ]
  },
  {
   "cell_type": "code",
   "execution_count": 3,
   "metadata": {
    "execution": {
     "iopub.execute_input": "2021-08-14T16:06:56.554895Z",
     "iopub.status.busy": "2021-08-14T16:06:56.554473Z",
     "iopub.status.idle": "2021-08-14T16:06:56.995947Z",
     "shell.execute_reply": "2021-08-14T16:06:56.995061Z",
     "shell.execute_reply.started": "2021-08-14T16:06:56.554853Z"
    }
   },
   "outputs": [],
   "source": [
    "model = Sequential()\n",
    "\n",
    "model.add(Conv2D(filters = 16, kernel_size = (3, 3), activation='relu',\n",
    "                 input_shape = (100, 100, 1)))\n",
    "model.add(BatchNormalization())\n",
    "model.add(Conv2D(filters = 16, kernel_size = (3, 3), activation='relu'))\n",
    "model.add(BatchNormalization())\n",
    "#model.add(Conv2D(filters = 16, kernel_size = (3, 3), activation='relu'))\n",
    "#model.add(BatchNormalization())\n",
    "model.add(MaxPool2D(strides=(2,2)))\n",
    "model.add(Dropout(0.25))\n",
    "\n",
    "model.add(Conv2D(filters = 32, kernel_size = (3, 3), activation='relu'))\n",
    "model.add(BatchNormalization())\n",
    "model.add(Conv2D(filters = 32, kernel_size = (3, 3), activation='relu'))\n",
    "model.add(BatchNormalization())\n",
    "#model.add(Conv2D(filters = 32, kernel_size = (3, 3), activation='relu'))\n",
    "#model.add(BatchNormalization())\n",
    "model.add(MaxPool2D(strides=(2,2)))\n",
    "model.add(Dropout(0.25))\n",
    "\n",
    "model.add(Flatten())\n",
    "model.add(Dense(512, activation='relu'))\n",
    "model.add(Dropout(0.25))\n",
    "model.add(Dense(1024, activation='relu'))\n",
    "model.add(Dropout(0.5))\n",
    "model.add(Dense(2, activation='softmax'))"
   ]
  },
  {
   "cell_type": "code",
   "execution_count": 5,
   "metadata": {
    "execution": {
     "iopub.execute_input": "2021-08-14T16:07:22.774485Z",
     "iopub.status.busy": "2021-08-14T16:07:22.774093Z",
     "iopub.status.idle": "2021-08-14T16:07:22.787355Z",
     "shell.execute_reply": "2021-08-14T16:07:22.786426Z",
     "shell.execute_reply.started": "2021-08-14T16:07:22.774452Z"
    }
   },
   "outputs": [
    {
     "name": "stdout",
     "output_type": "stream",
     "text": [
      "Model: \"sequential\"\n",
      "_________________________________________________________________\n",
      "Layer (type)                 Output Shape              Param #   \n",
      "=================================================================\n",
      "conv2d (Conv2D)              (None, 98, 98, 16)        160       \n",
      "_________________________________________________________________\n",
      "batch_normalization (BatchNo (None, 98, 98, 16)        64        \n",
      "_________________________________________________________________\n",
      "conv2d_1 (Conv2D)            (None, 96, 96, 16)        2320      \n",
      "_________________________________________________________________\n",
      "batch_normalization_1 (Batch (None, 96, 96, 16)        64        \n",
      "_________________________________________________________________\n",
      "max_pooling2d (MaxPooling2D) (None, 48, 48, 16)        0         \n",
      "_________________________________________________________________\n",
      "dropout (Dropout)            (None, 48, 48, 16)        0         \n",
      "_________________________________________________________________\n",
      "conv2d_2 (Conv2D)            (None, 46, 46, 32)        4640      \n",
      "_________________________________________________________________\n",
      "batch_normalization_2 (Batch (None, 46, 46, 32)        128       \n",
      "_________________________________________________________________\n",
      "conv2d_3 (Conv2D)            (None, 44, 44, 32)        9248      \n",
      "_________________________________________________________________\n",
      "batch_normalization_3 (Batch (None, 44, 44, 32)        128       \n",
      "_________________________________________________________________\n",
      "max_pooling2d_1 (MaxPooling2 (None, 22, 22, 32)        0         \n",
      "_________________________________________________________________\n",
      "dropout_1 (Dropout)          (None, 22, 22, 32)        0         \n",
      "_________________________________________________________________\n",
      "flatten (Flatten)            (None, 15488)             0         \n",
      "_________________________________________________________________\n",
      "dense (Dense)                (None, 512)               7930368   \n",
      "_________________________________________________________________\n",
      "dropout_2 (Dropout)          (None, 512)               0         \n",
      "_________________________________________________________________\n",
      "dense_1 (Dense)              (None, 1024)              525312    \n",
      "_________________________________________________________________\n",
      "dropout_3 (Dropout)          (None, 1024)              0         \n",
      "_________________________________________________________________\n",
      "dense_2 (Dense)              (None, 2)                 2050      \n",
      "=================================================================\n",
      "Total params: 8,474,482\n",
      "Trainable params: 8,474,290\n",
      "Non-trainable params: 192\n",
      "_________________________________________________________________\n"
     ]
    }
   ],
   "source": [
    "model.summary()"
   ]
  },
  {
   "cell_type": "code",
   "execution_count": null,
   "metadata": {
    "execution": {
     "iopub.execute_input": "2021-08-12T03:30:41.146725Z",
     "iopub.status.busy": "2021-08-12T03:30:41.146325Z",
     "iopub.status.idle": "2021-08-12T06:30:11.515038Z",
     "shell.execute_reply": "2021-08-12T06:30:11.513438Z",
     "shell.execute_reply.started": "2021-08-12T03:30:41.146689Z"
    }
   },
   "outputs": [],
   "source": [
    "model = Sequential()\n",
    "\n",
    "model.add(Conv2D(filters = 16, kernel_size = (3, 3), activation='relu',\n",
    "                 input_shape = (100, 100, 1)))\n",
    "model.add(BatchNormalization())\n",
    "model.add(Conv2D(filters = 16, kernel_size = (3, 3), activation='relu'))\n",
    "model.add(BatchNormalization())\n",
    "#model.add(Conv2D(filters = 16, kernel_size = (3, 3), activation='relu'))\n",
    "#model.add(BatchNormalization())\n",
    "model.add(MaxPool2D(strides=(2,2)))\n",
    "model.add(Dropout(0.25))\n",
    "\n",
    "model.add(Conv2D(filters = 32, kernel_size = (3, 3), activation='relu'))\n",
    "model.add(BatchNormalization())\n",
    "model.add(Conv2D(filters = 32, kernel_size = (3, 3), activation='relu'))\n",
    "model.add(BatchNormalization())\n",
    "#model.add(Conv2D(filters = 32, kernel_size = (3, 3), activation='relu'))\n",
    "#model.add(BatchNormalization())\n",
    "model.add(MaxPool2D(strides=(2,2)))\n",
    "model.add(Dropout(0.25))\n",
    "\n",
    "model.add(Flatten())\n",
    "model.add(Dense(512, activation='relu'))\n",
    "model.add(Dropout(0.25))\n",
    "model.add(Dense(1024, activation='relu'))\n",
    "model.add(Dropout(0.5))\n",
    "model.add(Dense(2, activation='softmax'))\n",
    "\n",
    "testing = False\n",
    "epochs = 14\n",
    "\n",
    "model.compile(optimizer='adam', \n",
    "              loss='sparse_categorical_crossentropy',\n",
    "              metrics=['accuracy'])\n",
    "history = model.fit(X_train, y_train, epochs=epochs)\n",
    "\n",
    "test_loss, test_acc = model.evaluate(X_test, y_test)\n",
    "print('\\nTest accuracy: {}'.format(test_acc))"
   ]
  },
  {
   "cell_type": "code",
   "execution_count": null,
   "metadata": {
    "execution": {
     "iopub.execute_input": "2021-08-12T06:48:55.707697Z",
     "iopub.status.busy": "2021-08-12T06:48:55.707245Z",
     "iopub.status.idle": "2021-08-12T06:48:55.713251Z",
     "shell.execute_reply": "2021-08-12T06:48:55.711932Z",
     "shell.execute_reply.started": "2021-08-12T06:48:55.707662Z"
    }
   },
   "outputs": [],
   "source": [
    "import numpy as np\n",
    "import tensorflow as tf\n",
    "from tensorflow import keras"
   ]
  },
  {
   "cell_type": "code",
   "execution_count": null,
   "metadata": {
    "execution": {
     "iopub.execute_input": "2021-08-12T06:48:59.594092Z",
     "iopub.status.busy": "2021-08-12T06:48:59.593509Z",
     "iopub.status.idle": "2021-08-12T06:49:00.718807Z",
     "shell.execute_reply": "2021-08-12T06:49:00.716998Z",
     "shell.execute_reply.started": "2021-08-12T06:48:59.594057Z"
    }
   },
   "outputs": [],
   "source": [
    "!sudo pip install h5py"
   ]
  },
  {
   "cell_type": "code",
   "execution_count": null,
   "metadata": {
    "execution": {
     "iopub.execute_input": "2021-08-12T06:49:09.921098Z",
     "iopub.status.busy": "2021-08-12T06:49:09.920629Z",
     "iopub.status.idle": "2021-08-12T06:49:10.051577Z",
     "shell.execute_reply": "2021-08-12T06:49:10.0505Z",
     "shell.execute_reply.started": "2021-08-12T06:49:09.921058Z"
    }
   },
   "outputs": [],
   "source": [
    "# serialize model to JSON\n",
    "model_json = model.to_json()\n",
    "with open(\"model.json\", \"w\") as json_file:\n",
    "    json_file.write(model_json)\n",
    "# serialize weights to HDF5\n",
    "model.save_weights(\"model.h5\")\n",
    "print(\"Saved model to disk\")"
   ]
  },
  {
   "cell_type": "code",
   "execution_count": null,
   "metadata": {
    "execution": {
     "iopub.status.busy": "2021-08-12T06:30:50.409483Z",
     "iopub.status.idle": "2021-08-12T06:30:50.410046Z"
    }
   },
   "outputs": [],
   "source": [
    "model.save(\"my_model\")"
   ]
  },
  {
   "cell_type": "code",
   "execution_count": null,
   "metadata": {
    "execution": {
     "iopub.execute_input": "2021-08-12T06:30:11.518474Z",
     "iopub.status.busy": "2021-08-12T06:30:11.517913Z",
     "iopub.status.idle": "2021-08-12T06:30:11.526135Z",
     "shell.execute_reply": "2021-08-12T06:30:11.525056Z",
     "shell.execute_reply.started": "2021-08-12T06:30:11.51842Z"
    }
   },
   "outputs": [],
   "source": [
    "print(history.history.keys())"
   ]
  },
  {
   "cell_type": "code",
   "execution_count": null,
   "metadata": {
    "execution": {
     "iopub.execute_input": "2021-08-12T06:30:11.528186Z",
     "iopub.status.busy": "2021-08-12T06:30:11.527617Z",
     "iopub.status.idle": "2021-08-12T06:30:49.669114Z",
     "shell.execute_reply": "2021-08-12T06:30:49.667829Z",
     "shell.execute_reply.started": "2021-08-12T06:30:11.528142Z"
    }
   },
   "outputs": [],
   "source": [
    "print(model.predict(X_test))"
   ]
  },
  {
   "cell_type": "code",
   "execution_count": null,
   "metadata": {
    "execution": {
     "iopub.execute_input": "2021-08-12T06:50:23.140052Z",
     "iopub.status.busy": "2021-08-12T06:50:23.139607Z",
     "iopub.status.idle": "2021-08-12T06:50:23.562616Z",
     "shell.execute_reply": "2021-08-12T06:50:23.56147Z",
     "shell.execute_reply.started": "2021-08-12T06:50:23.140015Z"
    }
   },
   "outputs": [],
   "source": [
    "plt.plot(history.history['accuracy'])\n",
    "plt.title('model accuracy')\n",
    "plt.ylabel('accuracy')\n",
    "plt.xlabel('epoch')\n",
    "plt.legend(['train', 'test'], loc='upper left')\n",
    "plt.show()\n",
    "# summarize history for loss\n",
    "plt.plot(history.history['loss'])\n",
    "\n",
    "plt.title('model loss')\n",
    "plt.ylabel('loss')\n",
    "plt.xlabel('epoch')\n",
    "plt.legend(['train', 'test'], loc='upper left')\n",
    "plt.show()"
   ]
  },
  {
   "cell_type": "code",
   "execution_count": null,
   "metadata": {
    "execution": {
     "iopub.execute_input": "2021-08-12T07:05:30.607217Z",
     "iopub.status.busy": "2021-08-12T07:05:30.606784Z",
     "iopub.status.idle": "2021-08-12T07:05:30.995664Z",
     "shell.execute_reply": "2021-08-12T07:05:30.994391Z",
     "shell.execute_reply.started": "2021-08-12T07:05:30.607181Z"
    }
   },
   "outputs": [],
   "source": [
    "plt.plot(test_acc)\n",
    "plt.title('model accuracy')\n",
    "plt.ylabel('accuracy')\n",
    "plt.xlabel('epoch')\n",
    "plt.legend(['test'], loc='upper left')\n",
    "plt.show()\n",
    "# summarize history for loss\n",
    "plt.plot(test_loss)\n",
    "\n",
    "plt.title('model loss')\n",
    "plt.ylabel('loss')\n",
    "plt.xlabel('epoch')\n",
    "plt.legend(['test'], loc='upper left')\n",
    "plt.show()"
   ]
  },
  {
   "cell_type": "code",
   "execution_count": null,
   "metadata": {
    "execution": {
     "iopub.execute_input": "2021-08-12T07:08:00.248335Z",
     "iopub.status.busy": "2021-08-12T07:08:00.247803Z",
     "iopub.status.idle": "2021-08-12T07:08:00.258451Z",
     "shell.execute_reply": "2021-08-12T07:08:00.256727Z",
     "shell.execute_reply.started": "2021-08-12T07:08:00.248293Z"
    }
   },
   "outputs": [],
   "source": []
  },
  {
   "cell_type": "code",
   "execution_count": null,
   "metadata": {},
   "outputs": [],
   "source": [
    "\n"
   ]
  },
  {
   "cell_type": "code",
   "execution_count": null,
   "metadata": {
    "execution": {
     "iopub.status.busy": "2021-08-12T06:30:50.404756Z",
     "iopub.status.idle": "2021-08-12T06:30:50.405594Z"
    },
    "id": "2PSGop8xGvvz"
   },
   "outputs": [],
   "source": [
    "print(model.predict(X_test))"
   ]
  },
  {
   "cell_type": "code",
   "execution_count": null,
   "metadata": {
    "id": "NIXmuQajGwWt"
   },
   "outputs": [],
   "source": []
  }
 ],
 "metadata": {
  "kernelspec": {
   "display_name": "Python 3",
   "language": "python",
   "name": "python3"
  },
  "language_info": {
   "codemirror_mode": {
    "name": "ipython",
    "version": 3
   },
   "file_extension": ".py",
   "mimetype": "text/x-python",
   "name": "python",
   "nbconvert_exporter": "python",
   "pygments_lexer": "ipython3",
   "version": "3.8.3"
  }
 },
 "nbformat": 4,
 "nbformat_minor": 4
}
